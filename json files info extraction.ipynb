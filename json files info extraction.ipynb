{
 "cells": [
  {
   "cell_type": "code",
   "execution_count": 1,
   "metadata": {},
   "outputs": [],
   "source": [
    "import warnings\n",
    "import pandas as pd\n",
    "\n",
    "warnings.filterwarnings('ignore')\n",
    "pd.options.display.max_rows = None\n",
    "pd.options.display.max_columns = None\n",
    "pd.options.display.float_format = '{:,.2f}'.format"
   ]
  },
  {
   "attachments": {},
   "cell_type": "markdown",
   "metadata": {},
   "source": [
    "# Reading data"
   ]
  },
  {
   "cell_type": "code",
   "execution_count": 2,
   "metadata": {},
   "outputs": [],
   "source": [
    "files_names = [r\"F:\\data analysis projects\\Trending YouTube Video Statistics\\data files\\CA_category_id.json\",\n",
    "               r\"F:\\data analysis projects\\Trending YouTube Video Statistics\\data files\\DE_category_id.json\",\n",
    "               r\"F:\\data analysis projects\\Trending YouTube Video Statistics\\data files\\FR_category_id.json\",\n",
    "               r\"F:\\data analysis projects\\Trending YouTube Video Statistics\\data files\\GB_category_id.json\",\n",
    "               r\"F:\\data analysis projects\\Trending YouTube Video Statistics\\data files\\IN_category_id.json\",\n",
    "               r\"F:\\data analysis projects\\Trending YouTube Video Statistics\\data files\\JP_category_id.json\",\n",
    "               r\"F:\\data analysis projects\\Trending YouTube Video Statistics\\data files\\KR_category_id.json\",\n",
    "               r\"F:\\data analysis projects\\Trending YouTube Video Statistics\\data files\\RU_category_id.json\",\n",
    "               r\"F:\\data analysis projects\\Trending YouTube Video Statistics\\data files\\US_category_id.json\",\n",
    "               r\"F:\\data analysis projects\\Trending YouTube Video Statistics\\data files\\MX_category_id.json\"]\n",
    "\n",
    "countries_names = ['Canada', 'Germany', 'France', 'Great Britain', 'India', 'Japan', 'South Korea', 'Russia','USA', 'Mexico']"
   ]
  },
  {
   "cell_type": "code",
   "execution_count": 3,
   "metadata": {},
   "outputs": [],
   "source": [
    "frames = list()\n",
    "for file in range(len(files_names)):\n",
    "    df = pd.read_json(files_names[file])\n",
    "\n",
    "    ids = list()\n",
    "    titles = list()\n",
    "\n",
    "    for i in range(len(df)):\n",
    "        ids.append(df['items'][i]['id'])\n",
    "        titles.append(df['items'][i]['snippet']['title'])\n",
    "    \n",
    "    info = pd.DataFrame()\n",
    "    info['category_id'] = ids\n",
    "    info['content_description'] = titles\n",
    "    frames.append(info)\n"
   ]
  },
  {
   "cell_type": "code",
   "execution_count": 7,
   "metadata": {},
   "outputs": [],
   "source": [
    "with pd.ExcelWriter('F:/data analysis projects/Trending YouTube Video Statistics/data files/category_id description.xlsx') as writer:\n",
    "    for i in range(len(frames)):\n",
    "        frames[i].to_excel(writer, index=False, sheet_name=countries_names[i])\n",
    "        "
   ]
  },
  {
   "cell_type": "code",
   "execution_count": null,
   "metadata": {},
   "outputs": [],
   "source": []
  }
 ],
 "metadata": {
  "kernelspec": {
   "display_name": "base",
   "language": "python",
   "name": "python3"
  },
  "language_info": {
   "codemirror_mode": {
    "name": "ipython",
    "version": 3
   },
   "file_extension": ".py",
   "mimetype": "text/x-python",
   "name": "python",
   "nbconvert_exporter": "python",
   "pygments_lexer": "ipython3",
   "version": "3.9.12"
  },
  "orig_nbformat": 4,
  "vscode": {
   "interpreter": {
    "hash": "779d9709bd18bdf09603e33775d90d117b81c82115c44542962fcb6cd52d5f9b"
   }
  }
 },
 "nbformat": 4,
 "nbformat_minor": 2
}
